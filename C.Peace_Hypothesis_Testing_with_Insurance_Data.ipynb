{
 "cells": [
  {
   "cell_type": "markdown",
   "id": "f90ad24c",
   "metadata": {},
   "source": [
    "# Hypothesis Testing with Insurance Data\n",
    "Cameron Peace"
   ]
  },
  {
   "cell_type": "markdown",
   "id": "198a026e",
   "metadata": {},
   "source": [
    "### Task"
   ]
  },
  {
   "cell_type": "markdown",
   "id": "58ade920",
   "metadata": {},
   "source": [
    "For this assignment, we will be working with the [US Health Insurance Dataset](https://docs.google.com/spreadsheets/d/e/2PACX-1vQBN8DPW2rdiRrY34eEM53HAzakNGSRrw4ogI-j8HyCUrbqTB_z4CeIn2IvjLF-w_6sOe5pIlypJGAA/pub?output=csv) from [Kaggle](https://www.kaggle.com/teertha/ushealthinsurancedataset).\n",
    "\n",
    "We have been asked to use our hypothesis testing skills to answer the following questions:\n",
    "\n",
    "- Q1. Do smokers have higher insurance charges than non-smokers?\n",
    "- Q2. Are men more likely to smoke than women?\n",
    "- Q3. Do different regions have different charges, on average?\n",
    "\n",
    "For each question, make sure to:\n",
    "\n",
    "* [ ] State your Null Hypothesis and Alternative Hypothesis\n",
    "* [ ] Select the correct test according to the data type and number of samples\n",
    "* [ ] Test the assumptions of your selected test.\n",
    "* [ ] Execute the selected test, or the alternative test (if you do not meet the assumptions)\n",
    "* [ ] Interpret your p-value and reject or fail to reject your null hypothesis \n",
    "* [ ] Show a supporting visualization that helps display the result"
   ]
  },
  {
   "cell_type": "markdown",
   "id": "bfe26a51",
   "metadata": {},
   "source": [
    "### Data Background"
   ]
  },
  {
   "cell_type": "markdown",
   "id": "31e599ef",
   "metadata": {},
   "source": [
    "From Kaggle:\n",
    ">This dataset contains 1338 rows of insured data, where the Insurance charges are given against the following attributes of the insured: Age, Sex, BMI, Number of Children, Smoker and Region. There are no missing or undefined values in the dataset.\n",
    "\n",
    "There is no information regarding data collection, provenance, time frame, etc.  The data are assumed to be fictitious."
   ]
  },
  {
   "cell_type": "markdown",
   "id": "e2faa89c",
   "metadata": {},
   "source": [
    "### Data Dictionary"
   ]
  },
  {
   "cell_type": "markdown",
   "id": "fd50f03b",
   "metadata": {},
   "source": [
    "* **Age**  - Age of primary beneficiary\n",
    "\n",
    "* **sex** - Insurance contractor gender, female / male\n",
    "\n",
    "* **bmi** - Body mass index, providing an understanding of body, weights that are relatively high or low relative to height, objective index of body weight (kg / m ^ 2) using the ratio of height to weight, ideally 18.5 to 24.9.\n",
    "\n",
    "* **children** - Number of children covered by health insurance / Number of dependents\n",
    "\n",
    "* **smoker** - Smoker / Non - smoker\n",
    "\n",
    "* **region** - The beneficiary's residential area in the US, northeast, southeast, southwest, northwest.\n",
    "\n",
    "* **charges** - Individual medical costs billed by health insurance."
   ]
  },
  {
   "cell_type": "markdown",
   "id": "b12c3511",
   "metadata": {},
   "source": [
    "### Imports"
   ]
  },
  {
   "cell_type": "code",
   "execution_count": 2,
   "id": "90d90ea9",
   "metadata": {},
   "outputs": [],
   "source": [
    "import pandas as pd\n",
    "import numpy as np\n",
    "from matplotlib import pyplot as plt\n",
    "import seaborn as sns\n",
    "import scipy.stats as stats"
   ]
  },
  {
   "cell_type": "markdown",
   "id": "093aed2a",
   "metadata": {},
   "source": [
    "### Loading, Viewing Data"
   ]
  },
  {
   "cell_type": "code",
   "execution_count": 3,
   "id": "ab167d49",
   "metadata": {},
   "outputs": [],
   "source": [
    "# loading\n",
    "df = pd.read_csv('insurance.csv')\n",
    "\n",
    "# making a copy in case comparison is needed\n",
    "df_original = df.copy()"
   ]
  },
  {
   "cell_type": "code",
   "execution_count": 4,
   "id": "95c99da7",
   "metadata": {},
   "outputs": [
    {
     "data": {
      "text/html": [
       "<div>\n",
       "<style scoped>\n",
       "    .dataframe tbody tr th:only-of-type {\n",
       "        vertical-align: middle;\n",
       "    }\n",
       "\n",
       "    .dataframe tbody tr th {\n",
       "        vertical-align: top;\n",
       "    }\n",
       "\n",
       "    .dataframe thead th {\n",
       "        text-align: right;\n",
       "    }\n",
       "</style>\n",
       "<table border=\"1\" class=\"dataframe\">\n",
       "  <thead>\n",
       "    <tr style=\"text-align: right;\">\n",
       "      <th></th>\n",
       "      <th>age</th>\n",
       "      <th>sex</th>\n",
       "      <th>bmi</th>\n",
       "      <th>children</th>\n",
       "      <th>smoker</th>\n",
       "      <th>region</th>\n",
       "      <th>charges</th>\n",
       "    </tr>\n",
       "  </thead>\n",
       "  <tbody>\n",
       "    <tr>\n",
       "      <th>576</th>\n",
       "      <td>22</td>\n",
       "      <td>male</td>\n",
       "      <td>26.840</td>\n",
       "      <td>0</td>\n",
       "      <td>no</td>\n",
       "      <td>southeast</td>\n",
       "      <td>1664.99960</td>\n",
       "    </tr>\n",
       "    <tr>\n",
       "      <th>316</th>\n",
       "      <td>50</td>\n",
       "      <td>male</td>\n",
       "      <td>32.205</td>\n",
       "      <td>0</td>\n",
       "      <td>no</td>\n",
       "      <td>northwest</td>\n",
       "      <td>8835.26495</td>\n",
       "    </tr>\n",
       "    <tr>\n",
       "      <th>450</th>\n",
       "      <td>39</td>\n",
       "      <td>male</td>\n",
       "      <td>29.600</td>\n",
       "      <td>4</td>\n",
       "      <td>no</td>\n",
       "      <td>southwest</td>\n",
       "      <td>7512.26700</td>\n",
       "    </tr>\n",
       "    <tr>\n",
       "      <th>692</th>\n",
       "      <td>20</td>\n",
       "      <td>male</td>\n",
       "      <td>32.395</td>\n",
       "      <td>1</td>\n",
       "      <td>no</td>\n",
       "      <td>northwest</td>\n",
       "      <td>2362.22905</td>\n",
       "    </tr>\n",
       "    <tr>\n",
       "      <th>780</th>\n",
       "      <td>30</td>\n",
       "      <td>male</td>\n",
       "      <td>24.400</td>\n",
       "      <td>3</td>\n",
       "      <td>yes</td>\n",
       "      <td>southwest</td>\n",
       "      <td>18259.21600</td>\n",
       "    </tr>\n",
       "  </tbody>\n",
       "</table>\n",
       "</div>"
      ],
      "text/plain": [
       "     age   sex     bmi  children smoker     region      charges\n",
       "576   22  male  26.840         0     no  southeast   1664.99960\n",
       "316   50  male  32.205         0     no  northwest   8835.26495\n",
       "450   39  male  29.600         4     no  southwest   7512.26700\n",
       "692   20  male  32.395         1     no  northwest   2362.22905\n",
       "780   30  male  24.400         3    yes  southwest  18259.21600"
      ]
     },
     "execution_count": 4,
     "metadata": {},
     "output_type": "execute_result"
    }
   ],
   "source": [
    "# initial viewing\n",
    "df.sample(5)"
   ]
  },
  {
   "cell_type": "code",
   "execution_count": 5,
   "id": "ac8ac8dd",
   "metadata": {},
   "outputs": [
    {
     "name": "stdout",
     "output_type": "stream",
     "text": [
      "<class 'pandas.core.frame.DataFrame'>\n",
      "RangeIndex: 1338 entries, 0 to 1337\n",
      "Data columns (total 7 columns):\n",
      " #   Column    Non-Null Count  Dtype  \n",
      "---  ------    --------------  -----  \n",
      " 0   age       1338 non-null   int64  \n",
      " 1   sex       1338 non-null   object \n",
      " 2   bmi       1338 non-null   float64\n",
      " 3   children  1338 non-null   int64  \n",
      " 4   smoker    1338 non-null   object \n",
      " 5   region    1338 non-null   object \n",
      " 6   charges   1338 non-null   float64\n",
      "dtypes: float64(2), int64(2), object(3)\n",
      "memory usage: 73.3+ KB\n"
     ]
    },
    {
     "data": {
      "text/plain": [
       "None"
      ]
     },
     "metadata": {},
     "output_type": "display_data"
    },
    {
     "data": {
      "text/html": [
       "<div>\n",
       "<style scoped>\n",
       "    .dataframe tbody tr th:only-of-type {\n",
       "        vertical-align: middle;\n",
       "    }\n",
       "\n",
       "    .dataframe tbody tr th {\n",
       "        vertical-align: top;\n",
       "    }\n",
       "\n",
       "    .dataframe thead th {\n",
       "        text-align: right;\n",
       "    }\n",
       "</style>\n",
       "<table border=\"1\" class=\"dataframe\">\n",
       "  <thead>\n",
       "    <tr style=\"text-align: right;\">\n",
       "      <th></th>\n",
       "      <th>age</th>\n",
       "      <th>sex</th>\n",
       "      <th>bmi</th>\n",
       "      <th>children</th>\n",
       "      <th>smoker</th>\n",
       "      <th>region</th>\n",
       "      <th>charges</th>\n",
       "    </tr>\n",
       "  </thead>\n",
       "  <tbody>\n",
       "    <tr>\n",
       "      <th>count</th>\n",
       "      <td>1338.000000</td>\n",
       "      <td>1338</td>\n",
       "      <td>1338.000000</td>\n",
       "      <td>1338.000000</td>\n",
       "      <td>1338</td>\n",
       "      <td>1338</td>\n",
       "      <td>1338.000000</td>\n",
       "    </tr>\n",
       "    <tr>\n",
       "      <th>unique</th>\n",
       "      <td>NaN</td>\n",
       "      <td>2</td>\n",
       "      <td>NaN</td>\n",
       "      <td>NaN</td>\n",
       "      <td>2</td>\n",
       "      <td>4</td>\n",
       "      <td>NaN</td>\n",
       "    </tr>\n",
       "    <tr>\n",
       "      <th>top</th>\n",
       "      <td>NaN</td>\n",
       "      <td>male</td>\n",
       "      <td>NaN</td>\n",
       "      <td>NaN</td>\n",
       "      <td>no</td>\n",
       "      <td>southeast</td>\n",
       "      <td>NaN</td>\n",
       "    </tr>\n",
       "    <tr>\n",
       "      <th>freq</th>\n",
       "      <td>NaN</td>\n",
       "      <td>676</td>\n",
       "      <td>NaN</td>\n",
       "      <td>NaN</td>\n",
       "      <td>1064</td>\n",
       "      <td>364</td>\n",
       "      <td>NaN</td>\n",
       "    </tr>\n",
       "    <tr>\n",
       "      <th>mean</th>\n",
       "      <td>39.207025</td>\n",
       "      <td>NaN</td>\n",
       "      <td>30.663397</td>\n",
       "      <td>1.094918</td>\n",
       "      <td>NaN</td>\n",
       "      <td>NaN</td>\n",
       "      <td>13270.422265</td>\n",
       "    </tr>\n",
       "    <tr>\n",
       "      <th>std</th>\n",
       "      <td>14.049960</td>\n",
       "      <td>NaN</td>\n",
       "      <td>6.098187</td>\n",
       "      <td>1.205493</td>\n",
       "      <td>NaN</td>\n",
       "      <td>NaN</td>\n",
       "      <td>12110.011237</td>\n",
       "    </tr>\n",
       "    <tr>\n",
       "      <th>min</th>\n",
       "      <td>18.000000</td>\n",
       "      <td>NaN</td>\n",
       "      <td>15.960000</td>\n",
       "      <td>0.000000</td>\n",
       "      <td>NaN</td>\n",
       "      <td>NaN</td>\n",
       "      <td>1121.873900</td>\n",
       "    </tr>\n",
       "    <tr>\n",
       "      <th>25%</th>\n",
       "      <td>27.000000</td>\n",
       "      <td>NaN</td>\n",
       "      <td>26.296250</td>\n",
       "      <td>0.000000</td>\n",
       "      <td>NaN</td>\n",
       "      <td>NaN</td>\n",
       "      <td>4740.287150</td>\n",
       "    </tr>\n",
       "    <tr>\n",
       "      <th>50%</th>\n",
       "      <td>39.000000</td>\n",
       "      <td>NaN</td>\n",
       "      <td>30.400000</td>\n",
       "      <td>1.000000</td>\n",
       "      <td>NaN</td>\n",
       "      <td>NaN</td>\n",
       "      <td>9382.033000</td>\n",
       "    </tr>\n",
       "    <tr>\n",
       "      <th>75%</th>\n",
       "      <td>51.000000</td>\n",
       "      <td>NaN</td>\n",
       "      <td>34.693750</td>\n",
       "      <td>2.000000</td>\n",
       "      <td>NaN</td>\n",
       "      <td>NaN</td>\n",
       "      <td>16639.912515</td>\n",
       "    </tr>\n",
       "    <tr>\n",
       "      <th>max</th>\n",
       "      <td>64.000000</td>\n",
       "      <td>NaN</td>\n",
       "      <td>53.130000</td>\n",
       "      <td>5.000000</td>\n",
       "      <td>NaN</td>\n",
       "      <td>NaN</td>\n",
       "      <td>63770.428010</td>\n",
       "    </tr>\n",
       "  </tbody>\n",
       "</table>\n",
       "</div>"
      ],
      "text/plain": [
       "                age   sex          bmi     children smoker     region  \\\n",
       "count   1338.000000  1338  1338.000000  1338.000000   1338       1338   \n",
       "unique          NaN     2          NaN          NaN      2          4   \n",
       "top             NaN  male          NaN          NaN     no  southeast   \n",
       "freq            NaN   676          NaN          NaN   1064        364   \n",
       "mean      39.207025   NaN    30.663397     1.094918    NaN        NaN   \n",
       "std       14.049960   NaN     6.098187     1.205493    NaN        NaN   \n",
       "min       18.000000   NaN    15.960000     0.000000    NaN        NaN   \n",
       "25%       27.000000   NaN    26.296250     0.000000    NaN        NaN   \n",
       "50%       39.000000   NaN    30.400000     1.000000    NaN        NaN   \n",
       "75%       51.000000   NaN    34.693750     2.000000    NaN        NaN   \n",
       "max       64.000000   NaN    53.130000     5.000000    NaN        NaN   \n",
       "\n",
       "             charges  \n",
       "count    1338.000000  \n",
       "unique           NaN  \n",
       "top              NaN  \n",
       "freq             NaN  \n",
       "mean    13270.422265  \n",
       "std     12110.011237  \n",
       "min      1121.873900  \n",
       "25%      4740.287150  \n",
       "50%      9382.033000  \n",
       "75%     16639.912515  \n",
       "max     63770.428010  "
      ]
     },
     "metadata": {},
     "output_type": "display_data"
    },
    {
     "data": {
      "text/plain": [
       "Index(['age', 'sex', 'bmi', 'children', 'smoker', 'region', 'charges'], dtype='object')"
      ]
     },
     "metadata": {},
     "output_type": "display_data"
    }
   ],
   "source": [
    "display(df.info(), df.describe(include='all'), df.columns)"
   ]
  },
  {
   "cell_type": "markdown",
   "id": "f2dcefbb",
   "metadata": {},
   "source": [
    "<mark><u>**Comment:**</u>\n",
    "\n",
    "<font color='dodgerblue' size=4><i>\n",
    "This dataset looks fairly clean at first glance.  We have outliers in 'charges' and 'children'.  It appears our sexes are balanced, our smoker/non-smoker values are not (more non-smokers).  This dataset also seems to be skewed towards overweight/obese patients.\n",
    "</i></font>"
   ]
  },
  {
   "cell_type": "markdown",
   "id": "454d2e93",
   "metadata": {},
   "source": [
    "### Cleaning, checking data"
   ]
  },
  {
   "cell_type": "code",
   "execution_count": 6,
   "id": "51d25880",
   "metadata": {},
   "outputs": [
    {
     "data": {
      "text/plain": [
       "1"
      ]
     },
     "execution_count": 6,
     "metadata": {},
     "output_type": "execute_result"
    }
   ],
   "source": [
    "# checking from duplicates\n",
    "df.duplicated().sum()"
   ]
  },
  {
   "cell_type": "code",
   "execution_count": 7,
   "id": "d40f0def",
   "metadata": {},
   "outputs": [
    {
     "data": {
      "text/plain": [
       "(1338, 7)"
      ]
     },
     "metadata": {},
     "output_type": "display_data"
    },
    {
     "data": {
      "text/plain": [
       "(1337, 7)"
      ]
     },
     "metadata": {},
     "output_type": "display_data"
    }
   ],
   "source": [
    "# checking shape for confirmation\n",
    "display(df.shape)\n",
    "\n",
    "# removing duplicate entry\n",
    "df = df.drop_duplicates().copy()\n",
    "\n",
    "# confirming\n",
    "display(df.shape)"
   ]
  },
  {
   "cell_type": "code",
   "execution_count": 8,
   "id": "b5a4b24c",
   "metadata": {},
   "outputs": [
    {
     "data": {
      "text/plain": [
       "0"
      ]
     },
     "execution_count": 8,
     "metadata": {},
     "output_type": "execute_result"
    }
   ],
   "source": [
    "# checking for NaNs\n",
    "df.isna().sum().sum()"
   ]
  },
  {
   "cell_type": "code",
   "execution_count": 9,
   "id": "d99f02ab",
   "metadata": {},
   "outputs": [
    {
     "name": "stdout",
     "output_type": "stream",
     "text": [
      "sex:\n",
      " ['female' 'male'] \n",
      "****\n",
      "children:\n",
      " [0 1 3 2 5 4] \n",
      "****\n",
      "smoker:\n",
      " ['yes' 'no'] \n",
      "****\n",
      "region:\n",
      " ['southwest' 'southeast' 'northwest' 'northeast'] \n",
      "****\n"
     ]
    }
   ],
   "source": [
    "# checking for incorrect values \n",
    "for i in df.columns:\n",
    "    if df[i].dtype == 'object' or df[i].nunique() < 15:\n",
    "        print(i + ':\\n', df[i].unique(), '\\n****')"
   ]
  },
  {
   "cell_type": "markdown",
   "id": "99dbe302",
   "metadata": {},
   "source": [
    "<mark><u>**Comment:**</u>\n",
    "\n",
    "<font color='dodgerblue' size=4><i>\n",
    "Looking good here, we dropped 1 duplicate value, but otherwise our dataset looks clean.\n",
    "</i></font>"
   ]
  },
  {
   "cell_type": "markdown",
   "id": "509fcb27",
   "metadata": {},
   "source": [
    "## **Question 1: Do smokers have higher insurance charges than non-smokers?**"
   ]
  },
  {
   "cell_type": "markdown",
   "id": "5396d414",
   "metadata": {},
   "source": [
    "### Hypotheses Statements and Tests:\n",
    "\n",
    "#### Null Hypothesis: \n",
    "***There is no significant difference in average insurance charges between smokers and non-smokers***\n",
    "\n",
    "#### Alternative Hypothesis: \n",
    "***There is a significant difference in average insurance charges between smokers and non-smokers***\n",
    "\n",
    "#### Alpha = 0.05\n",
    "\n",
    "#### Which Test?\n",
    "We'll use an independent t-test because we will be comparing means between two independent groups\n",
    "\n",
    "#### *Note:  There seems to me to be an implicit 'average' that is left out of the question here.  That is, I think the question we're attempting to answer is: \"Do smokers pay more on average than non-smokers for health insurance?\"\n",
    "\n",
    "#### Test Assumptions:\n",
    "For an independent t-test to be viable, we will need:\n",
    "* No significant outliers\n",
    "* Normality\n",
    "* Equal Variance (our sample sizes are large enough that this will not be necessary)."
   ]
  },
  {
   "cell_type": "code",
   "execution_count": 12,
   "id": "28e0a260",
   "metadata": {},
   "outputs": [],
   "source": [
    "# creating the two groups\n",
    "smokers = df[df['smoker'] == 'yes'].copy()\n",
    "non_smokers = df[df['smoker'] == 'no'].copy()\n",
    "\n",
    "# creating feature of interest\n",
    "smokers_charges = smokers['charges']\n",
    "non_smokers_charges = non_smokers['charges']"
   ]
  },
  {
   "cell_type": "code",
   "execution_count": 14,
   "id": "2858199c",
   "metadata": {},
   "outputs": [
    {
     "data": {
      "text/plain": [
       "(1337, 7)"
      ]
     },
     "metadata": {},
     "output_type": "display_data"
    },
    {
     "data": {
      "text/plain": [
       "(274, 7)"
      ]
     },
     "metadata": {},
     "output_type": "display_data"
    },
    {
     "data": {
      "text/plain": [
       "(274,)"
      ]
     },
     "metadata": {},
     "output_type": "display_data"
    },
    {
     "data": {
      "text/plain": [
       "(1063, 7)"
      ]
     },
     "metadata": {},
     "output_type": "display_data"
    },
    {
     "data": {
      "text/plain": [
       "(1063,)"
      ]
     },
     "metadata": {},
     "output_type": "display_data"
    },
    {
     "data": {
      "text/html": [
       "<div>\n",
       "<style scoped>\n",
       "    .dataframe tbody tr th:only-of-type {\n",
       "        vertical-align: middle;\n",
       "    }\n",
       "\n",
       "    .dataframe tbody tr th {\n",
       "        vertical-align: top;\n",
       "    }\n",
       "\n",
       "    .dataframe thead th {\n",
       "        text-align: right;\n",
       "    }\n",
       "</style>\n",
       "<table border=\"1\" class=\"dataframe\">\n",
       "  <thead>\n",
       "    <tr style=\"text-align: right;\">\n",
       "      <th></th>\n",
       "      <th>age</th>\n",
       "      <th>sex</th>\n",
       "      <th>bmi</th>\n",
       "      <th>children</th>\n",
       "      <th>smoker</th>\n",
       "      <th>region</th>\n",
       "      <th>charges</th>\n",
       "    </tr>\n",
       "  </thead>\n",
       "  <tbody>\n",
       "    <tr>\n",
       "      <th>23</th>\n",
       "      <td>34</td>\n",
       "      <td>female</td>\n",
       "      <td>31.92</td>\n",
       "      <td>1</td>\n",
       "      <td>yes</td>\n",
       "      <td>northeast</td>\n",
       "      <td>37701.8768</td>\n",
       "    </tr>\n",
       "    <tr>\n",
       "      <th>682</th>\n",
       "      <td>39</td>\n",
       "      <td>male</td>\n",
       "      <td>35.30</td>\n",
       "      <td>2</td>\n",
       "      <td>yes</td>\n",
       "      <td>southwest</td>\n",
       "      <td>40103.8900</td>\n",
       "    </tr>\n",
       "    <tr>\n",
       "      <th>94</th>\n",
       "      <td>64</td>\n",
       "      <td>female</td>\n",
       "      <td>31.30</td>\n",
       "      <td>2</td>\n",
       "      <td>yes</td>\n",
       "      <td>southwest</td>\n",
       "      <td>47291.0550</td>\n",
       "    </tr>\n",
       "    <tr>\n",
       "      <th>736</th>\n",
       "      <td>37</td>\n",
       "      <td>female</td>\n",
       "      <td>38.39</td>\n",
       "      <td>0</td>\n",
       "      <td>yes</td>\n",
       "      <td>southeast</td>\n",
       "      <td>40419.0191</td>\n",
       "    </tr>\n",
       "    <tr>\n",
       "      <th>587</th>\n",
       "      <td>34</td>\n",
       "      <td>female</td>\n",
       "      <td>30.21</td>\n",
       "      <td>1</td>\n",
       "      <td>yes</td>\n",
       "      <td>northwest</td>\n",
       "      <td>43943.8761</td>\n",
       "    </tr>\n",
       "  </tbody>\n",
       "</table>\n",
       "</div>"
      ],
      "text/plain": [
       "     age     sex    bmi  children smoker     region     charges\n",
       "23    34  female  31.92         1    yes  northeast  37701.8768\n",
       "682   39    male  35.30         2    yes  southwest  40103.8900\n",
       "94    64  female  31.30         2    yes  southwest  47291.0550\n",
       "736   37  female  38.39         0    yes  southeast  40419.0191\n",
       "587   34  female  30.21         1    yes  northwest  43943.8761"
      ]
     },
     "metadata": {},
     "output_type": "display_data"
    },
    {
     "data": {
      "text/html": [
       "<div>\n",
       "<style scoped>\n",
       "    .dataframe tbody tr th:only-of-type {\n",
       "        vertical-align: middle;\n",
       "    }\n",
       "\n",
       "    .dataframe tbody tr th {\n",
       "        vertical-align: top;\n",
       "    }\n",
       "\n",
       "    .dataframe thead th {\n",
       "        text-align: right;\n",
       "    }\n",
       "</style>\n",
       "<table border=\"1\" class=\"dataframe\">\n",
       "  <thead>\n",
       "    <tr style=\"text-align: right;\">\n",
       "      <th></th>\n",
       "      <th>age</th>\n",
       "      <th>sex</th>\n",
       "      <th>bmi</th>\n",
       "      <th>children</th>\n",
       "      <th>smoker</th>\n",
       "      <th>region</th>\n",
       "      <th>charges</th>\n",
       "    </tr>\n",
       "  </thead>\n",
       "  <tbody>\n",
       "    <tr>\n",
       "      <th>435</th>\n",
       "      <td>60</td>\n",
       "      <td>male</td>\n",
       "      <td>33.11</td>\n",
       "      <td>3</td>\n",
       "      <td>no</td>\n",
       "      <td>southeast</td>\n",
       "      <td>13919.82290</td>\n",
       "    </tr>\n",
       "    <tr>\n",
       "      <th>1073</th>\n",
       "      <td>54</td>\n",
       "      <td>female</td>\n",
       "      <td>28.88</td>\n",
       "      <td>2</td>\n",
       "      <td>no</td>\n",
       "      <td>northeast</td>\n",
       "      <td>12096.65120</td>\n",
       "    </tr>\n",
       "    <tr>\n",
       "      <th>772</th>\n",
       "      <td>44</td>\n",
       "      <td>female</td>\n",
       "      <td>36.48</td>\n",
       "      <td>0</td>\n",
       "      <td>no</td>\n",
       "      <td>northeast</td>\n",
       "      <td>12797.20962</td>\n",
       "    </tr>\n",
       "    <tr>\n",
       "      <th>552</th>\n",
       "      <td>62</td>\n",
       "      <td>male</td>\n",
       "      <td>21.40</td>\n",
       "      <td>0</td>\n",
       "      <td>no</td>\n",
       "      <td>southwest</td>\n",
       "      <td>12957.11800</td>\n",
       "    </tr>\n",
       "    <tr>\n",
       "      <th>787</th>\n",
       "      <td>21</td>\n",
       "      <td>male</td>\n",
       "      <td>36.86</td>\n",
       "      <td>0</td>\n",
       "      <td>no</td>\n",
       "      <td>northwest</td>\n",
       "      <td>1917.31840</td>\n",
       "    </tr>\n",
       "  </tbody>\n",
       "</table>\n",
       "</div>"
      ],
      "text/plain": [
       "      age     sex    bmi  children smoker     region      charges\n",
       "435    60    male  33.11         3     no  southeast  13919.82290\n",
       "1073   54  female  28.88         2     no  northeast  12096.65120\n",
       "772    44  female  36.48         0     no  northeast  12797.20962\n",
       "552    62    male  21.40         0     no  southwest  12957.11800\n",
       "787    21    male  36.86         0     no  northwest   1917.31840"
      ]
     },
     "metadata": {},
     "output_type": "display_data"
    }
   ],
   "source": [
    "# checking\n",
    "display(df.shape, smokers.shape, smokers_charges.shape, \n",
    "                 non_smokers.shape, non_smokers_charges.shape)\n",
    "display(smokers.sample(5), non_smokers.sample(5))"
   ]
  },
  {
   "cell_type": "markdown",
   "id": "4f9b4c8e",
   "metadata": {},
   "source": [
    "### Viewing Distribution of charges"
   ]
  },
  {
   "cell_type": "code",
   "execution_count": 44,
   "id": "13d8b669",
   "metadata": {},
   "outputs": [
    {
     "data": {
      "image/png": "[encoded data removed]",
      "text/plain": [
       "<Figure size 1920x1440 with 1 Axes>"
      ]
     },
     "metadata": {},
     "output_type": "display_data"
    }
   ],
   "source": [
    "# plotting the distribution of charges between smokers and non-smokers\n",
    "fig, ax = plt.subplots(dpi=300)\n",
    "sns.histplot(non_smokers_charges, ax=ax, color='blue', \n",
    "             alpha=.4, kde=True)\n",
    "sns.histplot(smokers_charges, ax=ax, label='smokers', color='orange', \n",
    "             kde=True)\n",
    "plt.legend(['non-smokers', 'smokers'], labelcolor=['blue', 'orange'])\n",
    "plt.title('Distribution of Charges - Smoker vs. Non-smoker', pad=12)\n",
    "plt.ylabel('Number of Patients')\n",
    "plt.xlabel('Charges');"
   ]
  },
  {
   "cell_type": "markdown",
   "id": "1cf53b34",
   "metadata": {},
   "source": [
    "<mark><u>**Comment:**</u>\n",
    "\n",
    "<font color='dodgerblue' size=4><i>\n",
    "Well, it certainly looks like smokers pay more at first glance, but let's run some more numbers to make sure that is statistically the case.\n",
    "</i></font>"
   ]
  },
  {
   "cell_type": "markdown",
   "id": "a257158c",
   "metadata": {},
   "source": [
    "### Check for and remove outliers"
   ]
  },
  {
   "cell_type": "code",
   "execution_count": 47,
   "id": "ed8d9910",
   "metadata": {},
   "outputs": [
    {
     "data": {
      "text/plain": [
       "274"
      ]
     },
     "metadata": {},
     "output_type": "display_data"
    },
    {
     "data": {
      "text/plain": [
       "1063"
      ]
     },
     "metadata": {},
     "output_type": "display_data"
    }
   ],
   "source": [
    "# creating zscores for each group\n",
    "smokers_zs = stats.zscore(smokers_charges)\n",
    "non_smokers_zs = stats.zscore(non_smokers_charges)\n",
    "\n",
    "# checking\n",
    "display(len(smokers_zs), len(non_smokers_zs))"
   ]
  },
  {
   "cell_type": "code",
   "execution_count": 52,
   "id": "5df4def4",
   "metadata": {},
   "outputs": [
    {
     "name": "stdout",
     "output_type": "stream",
     "text": [
      "Outliers in smokers: 0\n",
      "Outliers in non-smokers: 24\n"
     ]
    }
   ],
   "source": [
    "# checking for outliers\n",
    "print(f'Outliers in smokers: {np.sum(abs(smokers_zs) > 3)}')\n",
    "print(f'Outliers in non-smokers: {np.sum(abs(non_smokers_zs) > 3)}')"
   ]
  },
  {
   "cell_type": "code",
   "execution_count": 62,
   "id": "3de679df",
   "metadata": {},
   "outputs": [],
   "source": [
    "# removing outliers in non-smokers\n"
   ]
  },
  {
   "cell_type": "markdown",
   "id": "365be313",
   "metadata": {},
   "source": [
    "## Question 2:  Are men more likely to smoke than women?"
   ]
  },
  {
   "cell_type": "markdown",
   "id": "a31713fa",
   "metadata": {},
   "source": [
    "### Hypotheses Statements and Tests\n",
    "\n",
    "#### Null Hypothesis: \n",
    "***Men and women are equally likely to smoke***\n",
    "\n",
    "#### Alternative Hypothesis: \n",
    "***Men are more likely to smoke than women***\n",
    "\n",
    "#### Alpha = 0.05\n",
    "\n",
    "#### Which Test?\n",
    "We'll use a chi-square test because we are comparing two categories.\n"
   ]
  },
  {
   "cell_type": "code",
   "execution_count": null,
   "id": "7f66e7fd",
   "metadata": {},
   "outputs": [],
   "source": []
  },
  {
   "cell_type": "markdown",
   "id": "f1a5f618",
   "metadata": {},
   "source": [
    "## Question 3: Do different regions have different charges, on average?"
   ]
  },
  {
   "cell_type": "markdown",
   "id": "ceada3df",
   "metadata": {},
   "source": [
    "### Hypotheses Statements and Tests\n",
    "\n",
    "#### Null Hypothesis: \n",
    "***There is no significant difference between different regions when considering average charges***\n",
    "\n",
    "#### Alternative Hypothesis: \n",
    "***There is a significant difference between different regions when considering average charges***\n",
    "\n",
    "#### Alpha = 0.05\n",
    "\n",
    "#### Which Test?\n",
    "We'll use ANOVA here because we have more than 2 categories we're comparing"
   ]
  },
  {
   "cell_type": "code",
   "execution_count": null,
   "id": "e5947dee",
   "metadata": {},
   "outputs": [],
   "source": []
  },
  {
   "cell_type": "code",
   "execution_count": null,
   "id": "f85fe97d",
   "metadata": {},
   "outputs": [],
   "source": []
  },
  {
   "cell_type": "code",
   "execution_count": null,
   "id": "2e3fc7fd",
   "metadata": {},
   "outputs": [],
   "source": []
  }
 ],
 "metadata": {
  "kernelspec": {
   "display_name": "Python (dojo-env)",
   "language": "python",
   "name": "dojo-env"
  },
  "language_info": {
   "codemirror_mode": {
    "name": "ipython",
    "version": 3
   },
   "file_extension": ".py",
   "mimetype": "text/x-python",
   "name": "python",
   "nbconvert_exporter": "python",
   "pygments_lexer": "ipython3",
   "version": "3.9.15"
  },
  "toc": {
   "base_numbering": 1,
   "nav_menu": {},
   "number_sections": false,
   "sideBar": true,
   "skip_h1_title": false,
   "title_cell": "Table of Contents",
   "title_sidebar": "Contents",
   "toc_cell": false,
   "toc_position": {
    "height": "calc(100% - 180px)",
    "left": "10px",
    "top": "150px",
    "width": "176px"
   },
   "toc_section_display": true,
   "toc_window_display": true
  },
  "varInspector": {
   "cols": {
    "lenName": 16,
    "lenType": 16,
    "lenVar": 40
   },
   "kernels_config": {
    "python": {
     "delete_cmd_postfix": "",
     "delete_cmd_prefix": "del ",
     "library": "var_list.py",
     "varRefreshCmd": "print(var_dic_list())"
    },
    "r": {
     "delete_cmd_postfix": ") ",
     "delete_cmd_prefix": "rm(",
     "library": "var_list.r",
     "varRefreshCmd": "cat(var_dic_list()) "
    }
   },
   "types_to_exclude": [
    "module",
    "function",
    "builtin_function_or_method",
    "instance",
    "_Feature"
   ],
   "window_display": false
  }
 },
 "nbformat": 4,
 "nbformat_minor": 5
}
