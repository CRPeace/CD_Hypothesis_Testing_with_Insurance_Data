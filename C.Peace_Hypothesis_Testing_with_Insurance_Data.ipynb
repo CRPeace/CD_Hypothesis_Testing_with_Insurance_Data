{
 "cells": [
  {
   "cell_type": "markdown",
   "id": "f90ad24c",
   "metadata": {},
   "source": [
    "# Hypothesis Testing with Insurance Data\n",
    "Cameron Peace"
   ]
  },
  {
   "cell_type": "markdown",
   "id": "198a026e",
   "metadata": {},
   "source": [
    "### Task"
   ]
  },
  {
   "cell_type": "markdown",
   "id": "58ade920",
   "metadata": {},
   "source": [
    "xFor this assignment, we will be working with the [US Health Insurance Dataset](https://docs.google.com/spreadsheets/d/e/2PACX-1vQBN8DPW2rdiRrY34eEM53HAzakNGSRrw4ogI-j8HyCUrbqTB_z4CeIn2IvjLF-w_6sOe5pIlypJGAA/pub?output=csv) from [Kaggle](https://www.kaggle.com/teertha/ushealthinsurancedataset).\n",
    "\n",
    "We have been asked to use our hypothesis testing skills to answer the following questions:\n",
    "\n",
    "- Q1. Do smokers have higher insurance charges than non-smokers?\n",
    "- Q2. Are men more likely to smoke than women?\n",
    "- Q3. Do different regions have different charges, on average?\n",
    "\n",
    "For each question, make sure to:\n",
    "\n",
    "* [x] State your Null Hypothesis and Alternative Hypothesis\n",
    "* [x] Select the correct test according to the data type and number of samples\n",
    "* [x] Test the assumptions of your selected test.\n",
    "* [x] Execute the selected test, or the alternative test (if you do not meet the assumptions)\n",
    "* [x] Interpret your p-value and reject or fail to reject your null hypothesis \n",
    "* [x] Show a supporting visualization that helps display the result"
   ]
  },
  {
   "cell_type": "markdown",
   "id": "bfe26a51",
   "metadata": {},
   "source": [
    "### Data Background"
   ]
  },
  {
   "cell_type": "markdown",
   "id": "31e599ef",
   "metadata": {},
   "source": [
    "From Kaggle:\n",
    ">This dataset contains 1338 rows of insured data, where the Insurance charges are given against the following attributes of the insured: Age, Sex, BMI, Number of Children, Smoker and Region. There are no missing or undefined values in the dataset.\n",
    "\n",
    "There is no information regarding data collection, provenance, time frame, etc.  The data are assumed to be fictitious."
   ]
  },
  {
   "cell_type": "markdown",
   "id": "e2faa89c",
   "metadata": {},
   "source": [
    "### Data Dictionary"
   ]
  },
  {
   "cell_type": "markdown",
   "id": "fd50f03b",
   "metadata": {},
   "source": [
    "* **Age**  - Age of primary beneficiary\n",
    "\n",
    "* **sex** - Insurance contractor gender, female / male\n",
    "\n",
    "* **bmi** - Body mass index, providing an understanding of body, weights that are relatively high or low relative to height, objective index of body weight (kg / m ^ 2) using the ratio of height to weight, ideally 18.5 to 24.9.\n",
    "\n",
    "* **children** - Number of children covered by health insurance / Number of dependents\n",
    "\n",
    "* **smoker** - Smoker / Non - smoker\n",
    "\n",
    "* **region** - The beneficiary's residential area in the US, northeast, southeast, southwest, northwest.\n",
    "\n",
    "* **charges** - Individual medical costs billed by health insurance."
   ]
  },
  {
   "cell_type": "markdown",
   "id": "b12c3511",
   "metadata": {},
   "source": [
    "### Imports"
   ]
  },
  {
   "cell_type": "code",
   "execution_count": 1,
   "id": "90d90ea9",
   "metadata": {},
   "outputs": [],
   "source": [
    "import pandas as pd\n",
    "import numpy as np\n",
    "from matplotlib import pyplot as plt\n",
    "import seaborn as sns\n",
    "import scipy.stats as stats"
   ]
  },
  {
   "cell_type": "markdown",
   "id": "093aed2a",
   "metadata": {},
   "source": [
    "### Loading, Viewing Data"
   ]
  },
  {
   "cell_type": "code",
   "execution_count": 2,
   "id": "ab167d49",
   "metadata": {},
   "outputs": [],
   "source": [
    "# loading\n",
    "df = pd.read_csv('insurance.csv')\n",
    "\n",
    "# making a copy in case comparison is needed\n",
    "df_original = df.copy()"
   ]
  },
  {
   "cell_type": "code",
   "execution_count": 3,
   "id": "95c99da7",
   "metadata": {},
   "outputs": [
    {
     "data": {
      "text/html": [
       "<div>\n",
       "<style scoped>\n",
       "    .dataframe tbody tr th:only-of-type {\n",
       "        vertical-align: middle;\n",
       "    }\n",
       "\n",
       "    .dataframe tbody tr th {\n",
       "        vertical-align: top;\n",
       "    }\n",
       "\n",
       "    .dataframe thead th {\n",
       "        text-align: right;\n",
       "    }\n",
       "</style>\n",
       "<table border=\"1\" class=\"dataframe\">\n",
       "  <thead>\n",
       "    <tr style=\"text-align: right;\">\n",
       "      <th></th>\n",
       "      <th>age</th>\n",
       "      <th>sex</th>\n",
       "      <th>bmi</th>\n",
       "      <th>children</th>\n",
       "      <th>smoker</th>\n",
       "      <th>region</th>\n",
       "      <th>charges</th>\n",
       "    </tr>\n",
       "  </thead>\n",
       "  <tbody>\n",
       "    <tr>\n",
       "      <th>1137</th>\n",
       "      <td>26</td>\n",
       "      <td>female</td>\n",
       "      <td>22.230</td>\n",
       "      <td>0</td>\n",
       "      <td>no</td>\n",
       "      <td>northwest</td>\n",
       "      <td>3176.28770</td>\n",
       "    </tr>\n",
       "    <tr>\n",
       "      <th>661</th>\n",
       "      <td>57</td>\n",
       "      <td>female</td>\n",
       "      <td>23.980</td>\n",
       "      <td>1</td>\n",
       "      <td>no</td>\n",
       "      <td>southeast</td>\n",
       "      <td>22192.43711</td>\n",
       "    </tr>\n",
       "    <tr>\n",
       "      <th>646</th>\n",
       "      <td>39</td>\n",
       "      <td>male</td>\n",
       "      <td>26.220</td>\n",
       "      <td>1</td>\n",
       "      <td>no</td>\n",
       "      <td>northwest</td>\n",
       "      <td>6123.56880</td>\n",
       "    </tr>\n",
       "    <tr>\n",
       "      <th>935</th>\n",
       "      <td>59</td>\n",
       "      <td>female</td>\n",
       "      <td>27.500</td>\n",
       "      <td>0</td>\n",
       "      <td>no</td>\n",
       "      <td>southwest</td>\n",
       "      <td>12233.82800</td>\n",
       "    </tr>\n",
       "    <tr>\n",
       "      <th>249</th>\n",
       "      <td>29</td>\n",
       "      <td>male</td>\n",
       "      <td>28.975</td>\n",
       "      <td>1</td>\n",
       "      <td>no</td>\n",
       "      <td>northeast</td>\n",
       "      <td>4040.55825</td>\n",
       "    </tr>\n",
       "  </tbody>\n",
       "</table>\n",
       "</div>"
      ],
      "text/plain": [
       "      age     sex     bmi  children smoker     region      charges\n",
       "1137   26  female  22.230         0     no  northwest   3176.28770\n",
       "661    57  female  23.980         1     no  southeast  22192.43711\n",
       "646    39    male  26.220         1     no  northwest   6123.56880\n",
       "935    59  female  27.500         0     no  southwest  12233.82800\n",
       "249    29    male  28.975         1     no  northeast   4040.55825"
      ]
     },
     "execution_count": 3,
     "metadata": {},
     "output_type": "execute_result"
    }
   ],
   "source": [
    "# initial viewing\n",
    "df.sample(5)"
   ]
  },
  {
   "cell_type": "code",
   "execution_count": 4,
   "id": "ac8ac8dd",
   "metadata": {},
   "outputs": [
    {
     "name": "stdout",
     "output_type": "stream",
     "text": [
      "<class 'pandas.core.frame.DataFrame'>\n",
      "RangeIndex: 1338 entries, 0 to 1337\n",
      "Data columns (total 7 columns):\n",
      " #   Column    Non-Null Count  Dtype  \n",
      "---  ------    --------------  -----  \n",
      " 0   age       1338 non-null   int64  \n",
      " 1   sex       1338 non-null   object \n",
      " 2   bmi       1338 non-null   float64\n",
      " 3   children  1338 non-null   int64  \n",
      " 4   smoker    1338 non-null   object \n",
      " 5   region    1338 non-null   object \n",
      " 6   charges   1338 non-null   float64\n",
      "dtypes: float64(2), int64(2), object(3)\n",
      "memory usage: 73.3+ KB\n"
     ]
    },
    {
     "data": {
      "text/plain": [
       "None"
      ]
     },
     "metadata": {},
     "output_type": "display_data"
    },
    {
     "data": {
      "text/html": [
       "<div>\n",
       "<style scoped>\n",
       "    .dataframe tbody tr th:only-of-type {\n",
       "        vertical-align: middle;\n",
       "    }\n",
       "\n",
       "    .dataframe tbody tr th {\n",
       "        vertical-align: top;\n",
       "    }\n",
       "\n",
       "    .dataframe thead th {\n",
       "        text-align: right;\n",
       "    }\n",
       "</style>\n",
       "<table border=\"1\" class=\"dataframe\">\n",
       "  <thead>\n",
       "    <tr style=\"text-align: right;\">\n",
       "      <th></th>\n",
       "      <th>age</th>\n",
       "      <th>sex</th>\n",
       "      <th>bmi</th>\n",
       "      <th>children</th>\n",
       "      <th>smoker</th>\n",
       "      <th>region</th>\n",
       "      <th>charges</th>\n",
       "    </tr>\n",
       "  </thead>\n",
       "  <tbody>\n",
       "    <tr>\n",
       "      <th>count</th>\n",
       "      <td>1338.000000</td>\n",
       "      <td>1338</td>\n",
       "      <td>1338.000000</td>\n",
       "      <td>1338.000000</td>\n",
       "      <td>1338</td>\n",
       "      <td>1338</td>\n",
       "      <td>1338.000000</td>\n",
       "    </tr>\n",
       "    <tr>\n",
       "      <th>unique</th>\n",
       "      <td>NaN</td>\n",
       "      <td>2</td>\n",
       "      <td>NaN</td>\n",
       "      <td>NaN</td>\n",
       "      <td>2</td>\n",
       "      <td>4</td>\n",
       "      <td>NaN</td>\n",
       "    </tr>\n",
       "    <tr>\n",
       "      <th>top</th>\n",
       "      <td>NaN</td>\n",
       "      <td>male</td>\n",
       "      <td>NaN</td>\n",
       "      <td>NaN</td>\n",
       "      <td>no</td>\n",
       "      <td>southeast</td>\n",
       "      <td>NaN</td>\n",
       "    </tr>\n",
       "    <tr>\n",
       "      <th>freq</th>\n",
       "      <td>NaN</td>\n",
       "      <td>676</td>\n",
       "      <td>NaN</td>\n",
       "      <td>NaN</td>\n",
       "      <td>1064</td>\n",
       "      <td>364</td>\n",
       "      <td>NaN</td>\n",
       "    </tr>\n",
       "    <tr>\n",
       "      <th>mean</th>\n",
       "      <td>39.207025</td>\n",
       "      <td>NaN</td>\n",
       "      <td>30.663397</td>\n",
       "      <td>1.094918</td>\n",
       "      <td>NaN</td>\n",
       "      <td>NaN</td>\n",
       "      <td>13270.422265</td>\n",
       "    </tr>\n",
       "    <tr>\n",
       "      <th>std</th>\n",
       "      <td>14.049960</td>\n",
       "      <td>NaN</td>\n",
       "      <td>6.098187</td>\n",
       "      <td>1.205493</td>\n",
       "      <td>NaN</td>\n",
       "      <td>NaN</td>\n",
       "      <td>12110.011237</td>\n",
       "    </tr>\n",
       "    <tr>\n",
       "      <th>min</th>\n",
       "      <td>18.000000</td>\n",
       "      <td>NaN</td>\n",
       "      <td>15.960000</td>\n",
       "      <td>0.000000</td>\n",
       "      <td>NaN</td>\n",
       "      <td>NaN</td>\n",
       "      <td>1121.873900</td>\n",
       "    </tr>\n",
       "    <tr>\n",
       "      <th>25%</th>\n",
       "      <td>27.000000</td>\n",
       "      <td>NaN</td>\n",
       "      <td>26.296250</td>\n",
       "      <td>0.000000</td>\n",
       "      <td>NaN</td>\n",
       "      <td>NaN</td>\n",
       "      <td>4740.287150</td>\n",
       "    </tr>\n",
       "    <tr>\n",
       "      <th>50%</th>\n",
       "      <td>39.000000</td>\n",
       "      <td>NaN</td>\n",
       "      <td>30.400000</td>\n",
       "      <td>1.000000</td>\n",
       "      <td>NaN</td>\n",
       "      <td>NaN</td>\n",
       "      <td>9382.033000</td>\n",
       "    </tr>\n",
       "    <tr>\n",
       "      <th>75%</th>\n",
       "      <td>51.000000</td>\n",
       "      <td>NaN</td>\n",
       "      <td>34.693750</td>\n",
       "      <td>2.000000</td>\n",
       "      <td>NaN</td>\n",
       "      <td>NaN</td>\n",
       "      <td>16639.912515</td>\n",
       "    </tr>\n",
       "    <tr>\n",
       "      <th>max</th>\n",
       "      <td>64.000000</td>\n",
       "      <td>NaN</td>\n",
       "      <td>53.130000</td>\n",
       "      <td>5.000000</td>\n",
       "      <td>NaN</td>\n",
       "      <td>NaN</td>\n",
       "      <td>63770.428010</td>\n",
       "    </tr>\n",
       "  </tbody>\n",
       "</table>\n",
       "</div>"
      ],
      "text/plain": [
       "                age   sex          bmi     children smoker     region  \\\n",
       "count   1338.000000  1338  1338.000000  1338.000000   1338       1338   \n",
       "unique          NaN     2          NaN          NaN      2          4   \n",
       "top             NaN  male          NaN          NaN     no  southeast   \n",
       "freq            NaN   676          NaN          NaN   1064        364   \n",
       "mean      39.207025   NaN    30.663397     1.094918    NaN        NaN   \n",
       "std       14.049960   NaN     6.098187     1.205493    NaN        NaN   \n",
       "min       18.000000   NaN    15.960000     0.000000    NaN        NaN   \n",
       "25%       27.000000   NaN    26.296250     0.000000    NaN        NaN   \n",
       "50%       39.000000   NaN    30.400000     1.000000    NaN        NaN   \n",
       "75%       51.000000   NaN    34.693750     2.000000    NaN        NaN   \n",
       "max       64.000000   NaN    53.130000     5.000000    NaN        NaN   \n",
       "\n",
       "             charges  \n",
       "count    1338.000000  \n",
       "unique           NaN  \n",
       "top              NaN  \n",
       "freq             NaN  \n",
       "mean    13270.422265  \n",
       "std     12110.011237  \n",
       "min      1121.873900  \n",
       "25%      4740.287150  \n",
       "50%      9382.033000  \n",
       "75%     16639.912515  \n",
       "max     63770.428010  "
      ]
     },
     "metadata": {},
     "output_type": "display_data"
    },
    {
     "data": {
      "text/plain": [
       "Index(['age', 'sex', 'bmi', 'children', 'smoker', 'region', 'charges'], dtype='object')"
      ]
     },
     "metadata": {},
     "output_type": "display_data"
    }
   ],
   "source": [
    "display(df.info(), df.describe(include='all'), df.columns)"
   ]
  },
  {
   "cell_type": "markdown",
   "id": "f2dcefbb",
   "metadata": {},
   "source": [
    "<mark><u>**Comment:**</u>\n",
    "\n",
    "<font color='dodgerblue' size=4><i>\n",
    "This dataset looks fairly clean at first glance.  We have outliers in 'charges' and 'children'.  It appears our sexes are balanced, our smoker/non-smoker values are not (more non-smokers).  This dataset also seems to be skewed towards overweight/obese patients.\n",
    "</i></font>"
   ]
  },
  {
   "cell_type": "markdown",
   "id": "454d2e93",
   "metadata": {},
   "source": [
    "### Cleaning, checking data"
   ]
  },
  {
   "cell_type": "code",
   "execution_count": 5,
   "id": "51d25880",
   "metadata": {},
   "outputs": [
    {
     "data": {
      "text/plain": [
       "1"
      ]
     },
     "execution_count": 5,
     "metadata": {},
     "output_type": "execute_result"
    }
   ],
   "source": [
    "# checking from duplicates\n",
    "df.duplicated().sum()"
   ]
  },
  {
   "cell_type": "code",
   "execution_count": 6,
   "id": "d40f0def",
   "metadata": {},
   "outputs": [
    {
     "data": {
      "text/plain": [
       "(1338, 7)"
      ]
     },
     "metadata": {},
     "output_type": "display_data"
    },
    {
     "data": {
      "text/plain": [
       "(1337, 7)"
      ]
     },
     "metadata": {},
     "output_type": "display_data"
    }
   ],
   "source": [
    "# checking shape for confirmation\n",
    "display(df.shape)\n",
    "\n",
    "# removing duplicate entry\n",
    "df = df.drop_duplicates().copy()\n",
    "\n",
    "# confirming\n",
    "display(df.shape)"
   ]
  },
  {
   "cell_type": "code",
   "execution_count": 7,
   "id": "b5a4b24c",
   "metadata": {},
   "outputs": [
    {
     "data": {
      "text/plain": [
       "0"
      ]
     },
     "execution_count": 7,
     "metadata": {},
     "output_type": "execute_result"
    }
   ],
   "source": [
    "# checking for NaNs\n",
    "df.isna().sum().sum()"
   ]
  },
  {
   "cell_type": "code",
   "execution_count": 8,
   "id": "d99f02ab",
   "metadata": {},
   "outputs": [
    {
     "name": "stdout",
     "output_type": "stream",
     "text": [
      "sex:\n",
      " ['female' 'male'] \n",
      "****\n",
      "children:\n",
      " [0 1 3 2 5 4] \n",
      "****\n",
      "smoker:\n",
      " ['yes' 'no'] \n",
      "****\n",
      "region:\n",
      " ['southwest' 'southeast' 'northwest' 'northeast'] \n",
      "****\n"
     ]
    }
   ],
   "source": [
    "# checking for incorrect values \n",
    "for i in df.columns:\n",
    "    if df[i].dtype == 'object' or df[i].nunique() < 15:\n",
    "        print(i + ':\\n', df[i].unique(), '\\n****')"
   ]
  },
  {
   "cell_type": "markdown",
   "id": "99dbe302",
   "metadata": {},
   "source": [
    "<mark><u>**Comment:**</u>\n",
    "\n",
    "<font color='dodgerblue' size=4><i>\n",
    "Looking good here, we dropped 1 duplicate value, but otherwise our dataset looks clean.\n",
    "</i></font>"
   ]
  },
  {
   "cell_type": "markdown",
   "id": "509fcb27",
   "metadata": {},
   "source": [
    "## **Question 1: Do smokers have higher insurance charges than non-smokers?**"
   ]
  },
  {
   "cell_type": "markdown",
   "id": "5396d414",
   "metadata": {},
   "source": [
    "### Hypotheses Statements and Tests:\n",
    "\n",
    "#### Null Hypothesis: \n",
    "***There is no significant difference in insurance charges between smokers and non-smokers***\n",
    "\n",
    "#### Alternative Hypothesis: \n",
    "***There is a significant difference in insurance charges between smokers and non-smokers***\n",
    "\n",
    "#### Alpha = 0.05\n",
    "\n",
    "#### Which Test?\n",
    "We'll use an independent t-test because we will be comparing means between two independent groups\n",
    "\n",
    "#### Test Assumptions:\n",
    "For an independent t-test to be viable, we will need:\n",
    "* No significant outliers\n",
    "* Normality (our sample size makes this requirement unnecessary)\n",
    "* Equal Variance (our sample sizes are large enough that this will not be necessary)."
   ]
  },
  {
   "cell_type": "code",
   "execution_count": 9,
   "id": "28e0a260",
   "metadata": {},
   "outputs": [],
   "source": [
    "# creating the two groups\n",
    "smokers = df[df['smoker'] == 'yes'].copy()\n",
    "non_smokers = df[df['smoker'] == 'no'].copy()\n",
    "\n",
    "# creating feature of interest\n",
    "smokers_charges = smokers['charges']\n",
    "non_smokers_charges = non_smokers['charges']"
   ]
  },
  {
   "cell_type": "code",
   "execution_count": 10,
   "id": "2858199c",
   "metadata": {},
   "outputs": [
    {
     "data": {
      "text/plain": [
       "(1337, 7)"
      ]
     },
     "metadata": {},
     "output_type": "display_data"
    },
    {
     "data": {
      "text/plain": [
       "(274, 7)"
      ]
     },
     "metadata": {},
     "output_type": "display_data"
    },
    {
     "data": {
      "text/plain": [
       "(274,)"
      ]
     },
     "metadata": {},
     "output_type": "display_data"
    },
    {
     "data": {
      "text/plain": [
       "(1063, 7)"
      ]
     },
     "metadata": {},
     "output_type": "display_data"
    },
    {
     "data": {
      "text/plain": [
       "(1063,)"
      ]
     },
     "metadata": {},
     "output_type": "display_data"
    },
    {
     "data": {
      "text/html": [
       "<div>\n",
       "<style scoped>\n",
       "    .dataframe tbody tr th:only-of-type {\n",
       "        vertical-align: middle;\n",
       "    }\n",
       "\n",
       "    .dataframe tbody tr th {\n",
       "        vertical-align: top;\n",
       "    }\n",
       "\n",
       "    .dataframe thead th {\n",
       "        text-align: right;\n",
       "    }\n",
       "</style>\n",
       "<table border=\"1\" class=\"dataframe\">\n",
       "  <thead>\n",
       "    <tr style=\"text-align: right;\">\n",
       "      <th></th>\n",
       "      <th>age</th>\n",
       "      <th>sex</th>\n",
       "      <th>bmi</th>\n",
       "      <th>children</th>\n",
       "      <th>smoker</th>\n",
       "      <th>region</th>\n",
       "      <th>charges</th>\n",
       "    </tr>\n",
       "  </thead>\n",
       "  <tbody>\n",
       "    <tr>\n",
       "      <th>1117</th>\n",
       "      <td>25</td>\n",
       "      <td>male</td>\n",
       "      <td>33.330</td>\n",
       "      <td>2</td>\n",
       "      <td>yes</td>\n",
       "      <td>southeast</td>\n",
       "      <td>36124.57370</td>\n",
       "    </tr>\n",
       "    <tr>\n",
       "      <th>558</th>\n",
       "      <td>35</td>\n",
       "      <td>female</td>\n",
       "      <td>34.105</td>\n",
       "      <td>3</td>\n",
       "      <td>yes</td>\n",
       "      <td>northwest</td>\n",
       "      <td>39983.42595</td>\n",
       "    </tr>\n",
       "    <tr>\n",
       "      <th>757</th>\n",
       "      <td>47</td>\n",
       "      <td>female</td>\n",
       "      <td>27.830</td>\n",
       "      <td>0</td>\n",
       "      <td>yes</td>\n",
       "      <td>southeast</td>\n",
       "      <td>23065.42070</td>\n",
       "    </tr>\n",
       "    <tr>\n",
       "      <th>161</th>\n",
       "      <td>18</td>\n",
       "      <td>female</td>\n",
       "      <td>36.850</td>\n",
       "      <td>0</td>\n",
       "      <td>yes</td>\n",
       "      <td>southeast</td>\n",
       "      <td>36149.48350</td>\n",
       "    </tr>\n",
       "    <tr>\n",
       "      <th>958</th>\n",
       "      <td>43</td>\n",
       "      <td>male</td>\n",
       "      <td>34.960</td>\n",
       "      <td>1</td>\n",
       "      <td>yes</td>\n",
       "      <td>northeast</td>\n",
       "      <td>41034.22140</td>\n",
       "    </tr>\n",
       "  </tbody>\n",
       "</table>\n",
       "</div>"
      ],
      "text/plain": [
       "      age     sex     bmi  children smoker     region      charges\n",
       "1117   25    male  33.330         2    yes  southeast  36124.57370\n",
       "558    35  female  34.105         3    yes  northwest  39983.42595\n",
       "757    47  female  27.830         0    yes  southeast  23065.42070\n",
       "161    18  female  36.850         0    yes  southeast  36149.48350\n",
       "958    43    male  34.960         1    yes  northeast  41034.22140"
      ]
     },
     "metadata": {},
     "output_type": "display_data"
    },
    {
     "data": {
      "text/html": [
       "<div>\n",
       "<style scoped>\n",
       "    .dataframe tbody tr th:only-of-type {\n",
       "        vertical-align: middle;\n",
       "    }\n",
       "\n",
       "    .dataframe tbody tr th {\n",
       "        vertical-align: top;\n",
       "    }\n",
       "\n",
       "    .dataframe thead th {\n",
       "        text-align: right;\n",
       "    }\n",
       "</style>\n",
       "<table border=\"1\" class=\"dataframe\">\n",
       "  <thead>\n",
       "    <tr style=\"text-align: right;\">\n",
       "      <th></th>\n",
       "      <th>age</th>\n",
       "      <th>sex</th>\n",
       "      <th>bmi</th>\n",
       "      <th>children</th>\n",
       "      <th>smoker</th>\n",
       "      <th>region</th>\n",
       "      <th>charges</th>\n",
       "    </tr>\n",
       "  </thead>\n",
       "  <tbody>\n",
       "    <tr>\n",
       "      <th>277</th>\n",
       "      <td>22</td>\n",
       "      <td>female</td>\n",
       "      <td>24.300</td>\n",
       "      <td>0</td>\n",
       "      <td>no</td>\n",
       "      <td>southwest</td>\n",
       "      <td>2150.46900</td>\n",
       "    </tr>\n",
       "    <tr>\n",
       "      <th>983</th>\n",
       "      <td>27</td>\n",
       "      <td>female</td>\n",
       "      <td>30.590</td>\n",
       "      <td>1</td>\n",
       "      <td>no</td>\n",
       "      <td>northeast</td>\n",
       "      <td>16796.41194</td>\n",
       "    </tr>\n",
       "    <tr>\n",
       "      <th>1063</th>\n",
       "      <td>36</td>\n",
       "      <td>male</td>\n",
       "      <td>28.595</td>\n",
       "      <td>3</td>\n",
       "      <td>no</td>\n",
       "      <td>northwest</td>\n",
       "      <td>6548.19505</td>\n",
       "    </tr>\n",
       "    <tr>\n",
       "      <th>878</th>\n",
       "      <td>41</td>\n",
       "      <td>male</td>\n",
       "      <td>28.800</td>\n",
       "      <td>1</td>\n",
       "      <td>no</td>\n",
       "      <td>southwest</td>\n",
       "      <td>6282.23500</td>\n",
       "    </tr>\n",
       "    <tr>\n",
       "      <th>875</th>\n",
       "      <td>23</td>\n",
       "      <td>female</td>\n",
       "      <td>28.120</td>\n",
       "      <td>0</td>\n",
       "      <td>no</td>\n",
       "      <td>northwest</td>\n",
       "      <td>2690.11380</td>\n",
       "    </tr>\n",
       "  </tbody>\n",
       "</table>\n",
       "</div>"
      ],
      "text/plain": [
       "      age     sex     bmi  children smoker     region      charges\n",
       "277    22  female  24.300         0     no  southwest   2150.46900\n",
       "983    27  female  30.590         1     no  northeast  16796.41194\n",
       "1063   36    male  28.595         3     no  northwest   6548.19505\n",
       "878    41    male  28.800         1     no  southwest   6282.23500\n",
       "875    23  female  28.120         0     no  northwest   2690.11380"
      ]
     },
     "metadata": {},
     "output_type": "display_data"
    }
   ],
   "source": [
    "# checking\n",
    "display(df.shape, smokers.shape, smokers_charges.shape, \n",
    "                 non_smokers.shape, non_smokers_charges.shape)\n",
    "display(smokers.sample(5), non_smokers.sample(5))"
   ]
  },
  {
   "cell_type": "markdown",
   "id": "4f9b4c8e",
   "metadata": {},
   "source": [
    "### **Data Viz Q1** Viewing Distribution of charges"
   ]
  },
  {
   "cell_type": "code",
   "execution_count": 11,
   "id": "13d8b669",
   "metadata": {},
   "outputs": [
    {
     "data": {
      "image/png": "[encoded data removed]",
      "text/plain": [
       "<Figure size 1920x1440 with 1 Axes>"
      ]
     },
     "metadata": {},
     "output_type": "display_data"
    }
   ],
   "source": [
    "# plotting the distribution of charges between smokers and non-smokers\n",
    "fig, ax = plt.subplots(dpi=300)\n",
    "sns.histplot(non_smokers_charges, ax=ax, color='blue', \n",
    "             alpha=.4, kde=True)\n",
    "sns.histplot(smokers_charges, ax=ax, label='smokers', color='orange', \n",
    "             kde=True)\n",
    "plt.legend(['non-smokers', 'smokers'], labelcolor=['blue', 'orange'])\n",
    "plt.title('Distribution of Charges - Smoker vs. Non-smoker', pad=12)\n",
    "plt.ylabel('Number of Patients')\n",
    "plt.xlabel('Charges');"
   ]
  },
  {
   "cell_type": "markdown",
   "id": "1cf53b34",
   "metadata": {},
   "source": [
    "<mark><u>**Comment:**</u>\n",
    "\n",
    "<font color='dodgerblue' size=4><i>\n",
    "Well, it certainly looks like smokers pay more at first glance, but let's run some more numbers to make sure that is statistically the case.\n",
    "</i></font>"
   ]
  },
  {
   "cell_type": "markdown",
   "id": "a257158c",
   "metadata": {},
   "source": [
    "### Check for and remove outliers"
   ]
  },
  {
   "cell_type": "code",
   "execution_count": 12,
   "id": "ed8d9910",
   "metadata": {},
   "outputs": [
    {
     "data": {
      "text/plain": [
       "274"
      ]
     },
     "metadata": {},
     "output_type": "display_data"
    },
    {
     "data": {
      "text/plain": [
       "1063"
      ]
     },
     "metadata": {},
     "output_type": "display_data"
    }
   ],
   "source": [
    "# creating zscores for each group\n",
    "smokers_zs = stats.zscore(smokers_charges)\n",
    "non_smokers_zs = stats.zscore(non_smokers_charges)\n",
    "\n",
    "# checking\n",
    "display(len(smokers_zs), len(non_smokers_zs))"
   ]
  },
  {
   "cell_type": "code",
   "execution_count": 13,
   "id": "5df4def4",
   "metadata": {},
   "outputs": [
    {
     "name": "stdout",
     "output_type": "stream",
     "text": [
      "Outliers in smokers: 0\n",
      "Outliers in non-smokers: 24\n"
     ]
    }
   ],
   "source": [
    "# checking for outliers\n",
    "print(f'Outliers in smokers: {np.sum(abs(smokers_zs) > 3)}')\n",
    "print(f'Outliers in non-smokers: {np.sum(abs(non_smokers_zs) > 3)}')"
   ]
  },
  {
   "cell_type": "code",
   "execution_count": 14,
   "id": "2bc2eaa9",
   "metadata": {},
   "outputs": [],
   "source": [
    "# removing outliers in non-smokers\n",
    "non_smokers['zscore'] = stats.zscore(non_smokers['charges'])\n",
    "non_smokers = non_smokers[abs(non_smokers['zscore']) < 3].copy()"
   ]
  },
  {
   "cell_type": "code",
   "execution_count": 15,
   "id": "3de679df",
   "metadata": {},
   "outputs": [
    {
     "name": "stdout",
     "output_type": "stream",
     "text": [
      "New number for non_smokers after filtering:  1039\n",
      "Outliers in non-smokers:  0\n"
     ]
    }
   ],
   "source": [
    "# confirming\n",
    "print(f'New number for non_smokers after filtering:  {len(non_smokers)}')\n",
    "print(f\"Outliers in non-smokers:  {np.sum(abs(non_smokers['zscore']) > 3)}\")"
   ]
  },
  {
   "cell_type": "code",
   "execution_count": 16,
   "id": "87bc34e8",
   "metadata": {},
   "outputs": [
    {
     "name": "stdout",
     "output_type": "stream",
     "text": [
      "(274,) (1039,)\n"
     ]
    }
   ],
   "source": [
    "# resetting feature of interest after filtering\n",
    "smokers_charges = smokers['charges'].copy()\n",
    "non_smokers_charges = non_smokers['charges'].copy()\n",
    "\n",
    "# confirming\n",
    "print(smokers_charges.shape, non_smokers_charges.shape)"
   ]
  },
  {
   "cell_type": "markdown",
   "id": "864b514f",
   "metadata": {},
   "source": [
    "### Check for Normality"
   ]
  },
  {
   "cell_type": "code",
   "execution_count": 17,
   "id": "925b921c",
   "metadata": {},
   "outputs": [
    {
     "data": {
      "text/plain": [
       "NormaltestResult(statistic=163.70821423990097, pvalue=2.8262654970074626e-36)"
      ]
     },
     "metadata": {},
     "output_type": "display_data"
    },
    {
     "data": {
      "text/plain": [
       "False"
      ]
     },
     "metadata": {},
     "output_type": "display_data"
    }
   ],
   "source": [
    "# checking non-smokers distribution\n",
    "display(stats.normaltest(non_smokers_charges), \n",
    "        stats.normaltest(non_smokers_charges).pvalue > 0.05) "
   ]
  },
  {
   "cell_type": "code",
   "execution_count": 18,
   "id": "56a12df6",
   "metadata": {},
   "outputs": [
    {
     "data": {
      "text/plain": [
       "NormaltestResult(statistic=61.03941356533816, pvalue=5.564930630036463e-14)"
      ]
     },
     "metadata": {},
     "output_type": "display_data"
    },
    {
     "data": {
      "text/plain": [
       "False"
      ]
     },
     "metadata": {},
     "output_type": "display_data"
    }
   ],
   "source": [
    "# smokers distributon\n",
    "display(stats.normaltest(smokers_charges), \n",
    "        stats.normaltest(smokers_charges).pvalue > 0.05)"
   ]
  },
  {
   "cell_type": "markdown",
   "id": "610341fb",
   "metadata": {},
   "source": [
    "<mark><u>**Comment:**</u>\n",
    "\n",
    "<font color='dodgerblue' size=4><i>\n",
    "Both groups are not normally distributed, but because we are working with larger sample sizes, we can proceed with the t-test\n",
    "</i></font>"
   ]
  },
  {
   "cell_type": "markdown",
   "id": "a3c2053d",
   "metadata": {},
   "source": [
    "### Check for Equal Variance"
   ]
  },
  {
   "cell_type": "code",
   "execution_count": 19,
   "id": "85e050a0",
   "metadata": {},
   "outputs": [
    {
     "data": {
      "text/plain": [
       "LeveneResult(statistic=520.7178262969225, pvalue=2.512613039096279e-97)"
      ]
     },
     "metadata": {},
     "output_type": "display_data"
    },
    {
     "data": {
      "text/plain": [
       "False"
      ]
     },
     "metadata": {},
     "output_type": "display_data"
    }
   ],
   "source": [
    "# performing and displaying Levene's test for equal variances\n",
    "display(stats.levene(smokers_charges, non_smokers_charges),\n",
    "        stats.levene(smokers_charges, non_smokers_charges).pvalue > 0.05) "
   ]
  },
  {
   "cell_type": "markdown",
   "id": "d9362ab6",
   "metadata": {},
   "source": [
    "<mark><u>**Comment:**</u>\n",
    "\n",
    "<font color='dodgerblue' size=4><i>\n",
    "Our variances are not equal so we will use equal_var=False when we run our t-test\n",
    "</i></font>"
   ]
  },
  {
   "cell_type": "markdown",
   "id": "dac1b305",
   "metadata": {},
   "source": [
    "### ***T-test Result**"
   ]
  },
  {
   "cell_type": "code",
   "execution_count": 20,
   "id": "dcb14257",
   "metadata": {},
   "outputs": [
    {
     "name": "stdout",
     "output_type": "stream",
     "text": [
      "Ttest_indResult(statistic=33.723466247187815, pvalue=2.7282718648018296e-104) \n",
      "\n",
      " *** pvalue less than 0.05? - True ***\n"
     ]
    }
   ],
   "source": [
    "# performing t-test\n",
    "ttest_result = stats.ttest_ind(smokers_charges, non_smokers_charges, \n",
    "                               equal_var=False)\n",
    "\n",
    "# displaying results\n",
    "print(ttest_result, '\\n\\n', \n",
    "      f'*** pvalue less than 0.05? - {ttest_result.pvalue < 0.05} ***')"
   ]
  },
  {
   "cell_type": "markdown",
   "id": "af0ba09d",
   "metadata": {},
   "source": [
    "<mark><u>**Comment:**</u>\n",
    "\n",
    "<font color='dodgerblue' size=4><i>\n",
    "Our p-value is less than 0.05 so we can reject the null hypothesis that smokers and non-smokers pay the same amount for health insurance.  ***Smokers in this sample are statistically more likely to pay a greater amount for health insurance when compared to non-smokers.***\n",
    "</i></font>"
   ]
  },
  {
   "cell_type": "markdown",
   "id": "365be313",
   "metadata": {},
   "source": [
    "## Question 2:  Are men more likely to smoke than women?"
   ]
  },
  {
   "cell_type": "markdown",
   "id": "a31713fa",
   "metadata": {},
   "source": [
    "### Hypotheses Statements and Tests\n",
    "\n",
    "#### Null Hypothesis: \n",
    "***Men and women are equally likely to smoke***\n",
    "\n",
    "#### Alternative Hypothesis: \n",
    "***Men are more likely to smoke than women***\n",
    "\n",
    "#### Alpha = 0.05\n",
    "\n",
    "#### Which Test?\n",
    "We'll use a chi-square test because we are comparing two categories.\n",
    "\n",
    "#### Test Assumptions (from statology.org)\n",
    "* Assumption 1: Both variables are categorical.\n",
    "* Assumption 2: All observations are independent.\n",
    "* Assumption 3: Cells in the contingency table are mutually exclusive.\n",
    "* Assumption 4: Expected value of cells should be 5 or greater in at least 80% of cells."
   ]
  },
  {
   "cell_type": "markdown",
   "id": "0cc5a6a9",
   "metadata": {},
   "source": [
    "### **Data Viz Q2** Viewing Gender and Smoking"
   ]
  },
  {
   "cell_type": "code",
   "execution_count": 21,
   "id": "54479287",
   "metadata": {},
   "outputs": [
    {
     "data": {
      "image/png": "[encoded data removed]",
      "text/plain": [
       "<Figure size 1280x960 with 1 Axes>"
      ]
     },
     "metadata": {},
     "output_type": "display_data"
    }
   ],
   "source": [
    "# plotting the number of smokers and non-smokers in each gender\n",
    "plt.figure(dpi=200)\n",
    "sns.countplot(data=df, x='sex', hue='smoker')\n",
    "plt.title('Smoking and Gender', pad=12)\n",
    "plt.ylabel('Number of Individuals')\n",
    "plt.xlabel('Gender');"
   ]
  },
  {
   "cell_type": "markdown",
   "id": "46265b3d",
   "metadata": {},
   "source": [
    "<mark><u>**Comment:**</u>\n",
    "\n",
    "<font color='dodgerblue' size=4><i>\n",
    "At first look it appears that there may be a greater proportion of male smokers, but it's difficult to say whether or not it's large enough to be statistically significant.\n",
    "</i></font>"
   ]
  },
  {
   "cell_type": "markdown",
   "id": "7f2b8189",
   "metadata": {},
   "source": [
    "### Contingency Table"
   ]
  },
  {
   "cell_type": "code",
   "execution_count": 22,
   "id": "e669797b",
   "metadata": {},
   "outputs": [
    {
     "data": {
      "text/html": [
       "<div>\n",
       "<style scoped>\n",
       "    .dataframe tbody tr th:only-of-type {\n",
       "        vertical-align: middle;\n",
       "    }\n",
       "\n",
       "    .dataframe tbody tr th {\n",
       "        vertical-align: top;\n",
       "    }\n",
       "\n",
       "    .dataframe thead th {\n",
       "        text-align: right;\n",
       "    }\n",
       "</style>\n",
       "<table border=\"1\" class=\"dataframe\">\n",
       "  <thead>\n",
       "    <tr style=\"text-align: right;\">\n",
       "      <th>smoker</th>\n",
       "      <th>no</th>\n",
       "      <th>yes</th>\n",
       "    </tr>\n",
       "    <tr>\n",
       "      <th>sex</th>\n",
       "      <th></th>\n",
       "      <th></th>\n",
       "    </tr>\n",
       "  </thead>\n",
       "  <tbody>\n",
       "    <tr>\n",
       "      <th>female</th>\n",
       "      <td>547</td>\n",
       "      <td>115</td>\n",
       "    </tr>\n",
       "    <tr>\n",
       "      <th>male</th>\n",
       "      <td>516</td>\n",
       "      <td>159</td>\n",
       "    </tr>\n",
       "  </tbody>\n",
       "</table>\n",
       "</div>"
      ],
      "text/plain": [
       "smoker   no  yes\n",
       "sex             \n",
       "female  547  115\n",
       "male    516  159"
      ]
     },
     "execution_count": 22,
     "metadata": {},
     "output_type": "execute_result"
    }
   ],
   "source": [
    "# building and displaying a contingency table\n",
    "c_table = pd.crosstab(df['sex'], df['smoker'])\n",
    "c_table"
   ]
  },
  {
   "cell_type": "markdown",
   "id": "153c37f4",
   "metadata": {},
   "source": [
    "### ***Chi Square Test Results**"
   ]
  },
  {
   "cell_type": "code",
   "execution_count": 23,
   "id": "6ca53f30",
   "metadata": {},
   "outputs": [],
   "source": [
    "# getting and labeling the chi2 statistics\n",
    "result = stats.chi2_contingency(c_table)\n",
    "\n",
    "# assigning the results of our chi2 test to variables\n",
    "chi2, p, deg_free, expected_vals = result"
   ]
  },
  {
   "cell_type": "code",
   "execution_count": 24,
   "id": "e4c198f6",
   "metadata": {},
   "outputs": [
    {
     "name": "stdout",
     "output_type": "stream",
     "text": [
      "Chi Square Results \n",
      "\n",
      " *** p-value less than 0.05? - True ***\n",
      " p-value: 0.0062765550120107375\n",
      " Chi2: 7.469139330086637\n",
      " Degrees of Freedom: 1\n",
      " Expected Values: \n",
      "[[526.33208676 135.66791324]\n",
      " [536.66791324 138.33208676]]\n"
     ]
    }
   ],
   "source": [
    "# displaying results\n",
    "print('Chi Square Results','\\n\\n',\n",
    "      f'*** p-value less than 0.05? - {p < 0.05} ***\\n',\n",
    "     f'p-value: {p}\\n', f'Chi2: {chi2}\\n', f'Degrees of Freedom: {deg_free}\\n',\n",
    "     f'Expected Values: \\n{expected_vals}')"
   ]
  },
  {
   "cell_type": "code",
   "execution_count": 25,
   "id": "753ee467",
   "metadata": {},
   "outputs": [
    {
     "data": {
      "text/html": [
       "<div>\n",
       "<style scoped>\n",
       "    .dataframe tbody tr th:only-of-type {\n",
       "        vertical-align: middle;\n",
       "    }\n",
       "\n",
       "    .dataframe tbody tr th {\n",
       "        vertical-align: top;\n",
       "    }\n",
       "\n",
       "    .dataframe thead th {\n",
       "        text-align: right;\n",
       "    }\n",
       "</style>\n",
       "<table border=\"1\" class=\"dataframe\">\n",
       "  <thead>\n",
       "    <tr style=\"text-align: right;\">\n",
       "      <th>smoker</th>\n",
       "      <th>no</th>\n",
       "      <th>yes</th>\n",
       "    </tr>\n",
       "    <tr>\n",
       "      <th>sex</th>\n",
       "      <th></th>\n",
       "      <th></th>\n",
       "    </tr>\n",
       "  </thead>\n",
       "  <tbody>\n",
       "    <tr>\n",
       "      <th>female</th>\n",
       "      <td>547</td>\n",
       "      <td>115</td>\n",
       "    </tr>\n",
       "    <tr>\n",
       "      <th>male</th>\n",
       "      <td>516</td>\n",
       "      <td>159</td>\n",
       "    </tr>\n",
       "  </tbody>\n",
       "</table>\n",
       "</div>"
      ],
      "text/plain": [
       "smoker   no  yes\n",
       "sex             \n",
       "female  547  115\n",
       "male    516  159"
      ]
     },
     "metadata": {},
     "output_type": "display_data"
    },
    {
     "data": {
      "text/html": [
       "<div>\n",
       "<style scoped>\n",
       "    .dataframe tbody tr th:only-of-type {\n",
       "        vertical-align: middle;\n",
       "    }\n",
       "\n",
       "    .dataframe tbody tr th {\n",
       "        vertical-align: top;\n",
       "    }\n",
       "\n",
       "    .dataframe thead th {\n",
       "        text-align: right;\n",
       "    }\n",
       "</style>\n",
       "<table border=\"1\" class=\"dataframe\">\n",
       "  <thead>\n",
       "    <tr style=\"text-align: right;\">\n",
       "      <th></th>\n",
       "      <th>0</th>\n",
       "      <th>1</th>\n",
       "    </tr>\n",
       "  </thead>\n",
       "  <tbody>\n",
       "    <tr>\n",
       "      <th>0</th>\n",
       "      <td>526</td>\n",
       "      <td>135</td>\n",
       "    </tr>\n",
       "    <tr>\n",
       "      <th>1</th>\n",
       "      <td>536</td>\n",
       "      <td>138</td>\n",
       "    </tr>\n",
       "  </tbody>\n",
       "</table>\n",
       "</div>"
      ],
      "text/plain": [
       "     0    1\n",
       "0  526  135\n",
       "1  536  138"
      ]
     },
     "metadata": {},
     "output_type": "display_data"
    }
   ],
   "source": [
    "# displaying actual results vs expected results\n",
    "display(c_table, pd.DataFrame(expected_vals.astype(int)))"
   ]
  },
  {
   "cell_type": "markdown",
   "id": "d607eabe",
   "metadata": {},
   "source": [
    "<mark><u>**Comment:**</u>\n",
    "\n",
    "<font color='dodgerblue' size=4><i>\n",
    "Our p-value is less than 0.05 so we can reject the null hypothesis and conclude that there is a statistically significant difference in smoking when it comes to gender.  Looking at the difference between the expected and actual values for our contingency table, we can see that there is indeed a higher proportion of males that smoke when compared to females\n",
    "</i></font>"
   ]
  },
  {
   "cell_type": "markdown",
   "id": "f1a5f618",
   "metadata": {},
   "source": [
    "## Question 3: Do different regions have different charges, on average?"
   ]
  },
  {
   "cell_type": "markdown",
   "id": "ceada3df",
   "metadata": {},
   "source": [
    "### Hypotheses Statements and Tests\n",
    "\n",
    "#### Null Hypothesis: \n",
    "***There is no significant difference between different regions when considering average charges***\n",
    "\n",
    "#### Alternative Hypothesis: \n",
    "***There is a significant difference between different regions when considering average charges***\n",
    "\n",
    "#### Alpha = 0.05\n",
    "\n",
    "#### Which Test?\n",
    "We'll use ANOVA here because we have more than 2 categories we're comparing\n",
    "\n",
    "### Test Assumptions\n",
    "* Normality\n",
    "* Equal variance\n",
    "* No significant outliers"
   ]
  },
  {
   "cell_type": "markdown",
   "id": "76f8ed41",
   "metadata": {},
   "source": [
    "### **Data Viz Q3** Cost Across Regions"
   ]
  },
  {
   "cell_type": "code",
   "execution_count": 26,
   "id": "f85fe97d",
   "metadata": {},
   "outputs": [
    {
     "data": {
      "image/png": "[encoded data removed]",
      "text/plain": [
       "<Figure size 2000x1200 with 1 Axes>"
      ]
     },
     "metadata": {},
     "output_type": "display_data"
    }
   ],
   "source": [
    "# plotting charges by region\n",
    "plt.figure(figsize=(10,6), dpi=200)\n",
    "sns.barplot(data=df, y='charges', x='region', errorbar=None)\n",
    "plt.title('Average Insurance Charges by Region', pad=12, fontsize=18)\n",
    "plt.xlabel('Region')\n",
    "plt.ylabel('Charges');"
   ]
  },
  {
   "cell_type": "markdown",
   "id": "23197a5d",
   "metadata": {},
   "source": [
    "<mark><u>**Comment:**</u>\n",
    "\n",
    "<font color='dodgerblue' size=4><i>\n",
    "There is a noticeable between difference what patients pay in the southeast as opposed to the other regions (maybe due to Florida with older demographics?).  We will see if this difference is statistically significant or not.\n",
    "</i></font>"
   ]
  },
  {
   "cell_type": "markdown",
   "id": "02b3c541",
   "metadata": {},
   "source": [
    "### Separating Groups"
   ]
  },
  {
   "cell_type": "code",
   "execution_count": 27,
   "id": "540e0e36",
   "metadata": {},
   "outputs": [],
   "source": [
    "# creating a dictionary with region names for keys and all charges for values\n",
    "regions = {}\n",
    "\n",
    "for i in df['region'].unique():\n",
    "    data = df.loc[df['region'] == i, 'charges'].copy()\n",
    "    regions[i] = data"
   ]
  },
  {
   "cell_type": "code",
   "execution_count": 28,
   "id": "09cdaedc",
   "metadata": {
    "scrolled": true
   },
   "outputs": [
    {
     "name": "stdout",
     "output_type": "stream",
     "text": [
      "dict_keys(['southwest', 'southeast', 'northwest', 'northeast']) \n",
      "\n",
      "SOUTHWEST 325\n",
      "SOUTHEAST 364\n",
      "NORTHWEST 324\n",
      "NORTHEAST 324\n",
      "sum of all regions: 1337\n",
      "sum of original df: 1337\n"
     ]
    }
   ],
   "source": [
    "# confirming everything adds up\n",
    "print(regions.keys(), '\\n')\n",
    "\n",
    "all_regions_sum = 0\n",
    "for i, v in regions.items():\n",
    "    all_regions_sum += len(v)\n",
    "    print(i.upper(), len(v))\n",
    "\n",
    "print(f'sum of all regions: {all_regions_sum}')\n",
    "print(f'sum of original df: {len(df)}')"
   ]
  },
  {
   "cell_type": "markdown",
   "id": "7dac1a7d",
   "metadata": {},
   "source": [
    "### Checking and Removing Outliers"
   ]
  },
  {
   "cell_type": "markdown",
   "id": "6c8b1a94",
   "metadata": {},
   "source": [
    "<mark><u>**Comment:**</u>\n",
    "\n",
    "<font color='dodgerblue' size=4><i>\n",
    "I had originally checked for and removed outliers, but due to unequal variance across each region, it was deemed necessary to use a Kruskal-Wallis test instead of an ANOVA.  Since the removal of outliers is not a needed assumption for this test, I have left them in.  In addition, I found that the inclusion of outliers did not result in a p value low enough to alter the overall conclusion.  I opted to leave this tangent out of the notebook to keep the presentation cleaner.\n",
    "</i></font>\n",
    "    \n",
    "Resources I used to make this determination:\n",
    "* https://www.statisticshowto.com/probability-and-statistics/statistics-definitions/kruskal-wallis/\n",
    "* https://data.library.virginia.edu/getting-started-with-the-kruskal-wallis-test/\n",
    "* https://stats.stackexchange.com/questions/70994/do-we-need-to-worry-about-outliers-when-using-rank-based-tests"
   ]
  },
  {
   "cell_type": "markdown",
   "id": "8cd78b71",
   "metadata": {},
   "source": [
    "### Check for Normality"
   ]
  },
  {
   "cell_type": "code",
   "execution_count": 29,
   "id": "32fb2701",
   "metadata": {},
   "outputs": [],
   "source": [
    "# adding all test results to a dictionary, turn to DataFrame for viewing\n",
    "norm_results = {}\n",
    "\n",
    "for i, data in regions.items():\n",
    "    stat, p = stats.normaltest(data)\n",
    "    norm_results[i] = {'n': len(data), 'p': p, 'test stat': stat}\n",
    "\n",
    "norm_results_df = pd.DataFrame(norm_results).T"
   ]
  },
  {
   "cell_type": "code",
   "execution_count": 30,
   "id": "2e3fc7fd",
   "metadata": {},
   "outputs": [
    {
     "data": {
      "text/html": [
       "<div>\n",
       "<style scoped>\n",
       "    .dataframe tbody tr th:only-of-type {\n",
       "        vertical-align: middle;\n",
       "    }\n",
       "\n",
       "    .dataframe tbody tr th {\n",
       "        vertical-align: top;\n",
       "    }\n",
       "\n",
       "    .dataframe thead th {\n",
       "        text-align: right;\n",
       "    }\n",
       "</style>\n",
       "<table border=\"1\" class=\"dataframe\">\n",
       "  <thead>\n",
       "    <tr style=\"text-align: right;\">\n",
       "      <th></th>\n",
       "      <th>n</th>\n",
       "      <th>p</th>\n",
       "      <th>test stat</th>\n",
       "      <th>significant?</th>\n",
       "    </tr>\n",
       "  </thead>\n",
       "  <tbody>\n",
       "    <tr>\n",
       "      <th>southwest</th>\n",
       "      <td>325.0</td>\n",
       "      <td>6.125298e-23</td>\n",
       "      <td>102.294059</td>\n",
       "      <td>True</td>\n",
       "    </tr>\n",
       "    <tr>\n",
       "      <th>southeast</th>\n",
       "      <td>364.0</td>\n",
       "      <td>4.953297e-15</td>\n",
       "      <td>65.877446</td>\n",
       "      <td>True</td>\n",
       "    </tr>\n",
       "    <tr>\n",
       "      <th>northwest</th>\n",
       "      <td>324.0</td>\n",
       "      <td>6.502634e-24</td>\n",
       "      <td>106.779670</td>\n",
       "      <td>True</td>\n",
       "    </tr>\n",
       "    <tr>\n",
       "      <th>northeast</th>\n",
       "      <td>324.0</td>\n",
       "      <td>1.455431e-19</td>\n",
       "      <td>86.747629</td>\n",
       "      <td>True</td>\n",
       "    </tr>\n",
       "  </tbody>\n",
       "</table>\n",
       "</div>"
      ],
      "text/plain": [
       "               n             p   test stat  significant?\n",
       "southwest  325.0  6.125298e-23  102.294059          True\n",
       "southeast  364.0  4.953297e-15   65.877446          True\n",
       "northwest  324.0  6.502634e-24  106.779670          True\n",
       "northeast  324.0  1.455431e-19   86.747629          True"
      ]
     },
     "execution_count": 30,
     "metadata": {},
     "output_type": "execute_result"
    }
   ],
   "source": [
    "# creating a new column to better view test results\n",
    "norm_results_df['significant?'] = norm_results_df['p'] < 0.05\n",
    "\n",
    "# viewing df\n",
    "norm_results_df"
   ]
  },
  {
   "cell_type": "markdown",
   "id": "5b60b370",
   "metadata": {},
   "source": [
    "<mark><u>**Comment:**</u>\n",
    "\n",
    "<font color='dodgerblue' size=4><i>\n",
    "Our groups are not normally distributed, however, our sample sizes are large enough that we can still use an ANOVA test. \n",
    "</i></font>"
   ]
  },
  {
   "cell_type": "markdown",
   "id": "2063e589",
   "metadata": {},
   "source": [
    "### Checking Variance"
   ]
  },
  {
   "cell_type": "code",
   "execution_count": 31,
   "id": "52c4d9ab",
   "metadata": {},
   "outputs": [
    {
     "data": {
      "text/plain": [
       "LeveneResult(statistic=5.553479860699911, pvalue=0.0008689544824002284)"
      ]
     },
     "metadata": {},
     "output_type": "display_data"
    },
    {
     "data": {
      "text/plain": [
       "'p-value less than 0.05? - True'"
      ]
     },
     "metadata": {},
     "output_type": "display_data"
    }
   ],
   "source": [
    "# checking our variance\n",
    "levene_result = stats.levene(*regions.values())\n",
    "\n",
    "# displaying\n",
    "display(levene_result, f'p-value less than 0.05? - {levene_result.pvalue < 0.05}')"
   ]
  },
  {
   "cell_type": "markdown",
   "id": "33cfcabc",
   "metadata": {},
   "source": [
    "<mark><u>**Comment:**</u>\n",
    "\n",
    "<font color='dodgerblue' size=4><i>\n",
    "Unfortunately our we have unequal variance, so we will need to use a Kruskal-Wallis test instead of an ANOVA test.\n",
    "</i></font>"
   ]
  },
  {
   "cell_type": "markdown",
   "id": "3b0b0d02",
   "metadata": {},
   "source": [
    "### ***Kruskal-Wallis Test Results**"
   ]
  },
  {
   "cell_type": "code",
   "execution_count": 32,
   "id": "1bee66c7",
   "metadata": {},
   "outputs": [
    {
     "name": "stdout",
     "output_type": "stream",
     "text": [
      "H-Statistic: 4.622506584464645 \n",
      "\n",
      " p-value: 0.20161983372311595\n"
     ]
    }
   ],
   "source": [
    "# performing the test\n",
    "h_stat, p_value = stats.kruskal(*regions.values())\n",
    "\n",
    "# displaying results\n",
    "print(f'H-Statistic: {h_stat}', '\\n\\n', f'p-value: {p_value}')"
   ]
  },
  {
   "cell_type": "markdown",
   "id": "9353b54c",
   "metadata": {},
   "source": [
    "<mark><u>**Comment:**</u>\n",
    "\n",
    "<font color='dodgerblue' size=4><i>\n",
    "The p value is not below our alpha of 0.05 so we have failed to reject the null hypothesis. For this dataset, we cannot show that there is a significant difference in insurance charges between regions of the United States.\n",
    "</i></font>"
   ]
  }
 ],
 "metadata": {
  "kernelspec": {
   "display_name": "Python (dojo-env)",
   "language": "python",
   "name": "dojo-env"
  },
  "language_info": {
   "codemirror_mode": {
    "name": "ipython",
    "version": 3
   },
   "file_extension": ".py",
   "mimetype": "text/x-python",
   "name": "python",
   "nbconvert_exporter": "python",
   "pygments_lexer": "ipython3",
   "version": "3.9.15"
  },
  "toc": {
   "base_numbering": 1,
   "nav_menu": {},
   "number_sections": false,
   "sideBar": true,
   "skip_h1_title": false,
   "title_cell": "Table of Contents",
   "title_sidebar": "Contents",
   "toc_cell": false,
   "toc_position": {
    "height": "calc(100% - 180px)",
    "left": "10px",
    "top": "150px",
    "width": "240px"
   },
   "toc_section_display": true,
   "toc_window_display": true
  },
  "varInspector": {
   "cols": {
    "lenName": 16,
    "lenType": 16,
    "lenVar": 40
   },
   "kernels_config": {
    "python": {
     "delete_cmd_postfix": "",
     "delete_cmd_prefix": "del ",
     "library": "var_list.py",
     "varRefreshCmd": "print(var_dic_list())"
    },
    "r": {
     "delete_cmd_postfix": ") ",
     "delete_cmd_prefix": "rm(",
     "library": "var_list.r",
     "varRefreshCmd": "cat(var_dic_list()) "
    }
   },
   "types_to_exclude": [
    "module",
    "function",
    "builtin_function_or_method",
    "instance",
    "_Feature"
   ],
   "window_display": false
  }
 },
 "nbformat": 4,
 "nbformat_minor": 5
}
